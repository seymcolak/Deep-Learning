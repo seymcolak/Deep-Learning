{
 "cells": [
  {
   "cell_type": "markdown",
   "metadata": {},
   "source": [
    "<h1 style=\"text-align: center;\">Deep Learning<br><br>Lab - 1 (ANN) <br><br>Assignment-1 Solution<br><br>Churn Prediction for Bank Customer<br><h1>"
   ]
  },
  {
   "cell_type": "markdown",
   "metadata": {},
   "source": [
    "We have a dataset with details of a bank's customers, and the target variable is a binary variable that reflects whether the customer has left the bank (closed his account) or remains a customer.\n",
    "\n",
    "The features in the given dataset are:\n",
    "- **rownumber:** Row Numbers from 1 to 10000.\n",
    "- **customerid:** A unique ID that identifies each customer.\n",
    "- **surname:** The customer’s surname.\n",
    "- **creditscore:** A credit score is a number between 300–850 that depicts a consumer's creditworthiness.\n",
    "- **geography:** The country from which the customer belongs to.\n",
    "- **Gender:** The customer’s gender: Male, Female\n",
    "- **Age:** The customer’s current age, in years, at the time of being customer.\n",
    "- **tenure:** The number of years for which the customer has been with the bank.\n",
    "- **balance:** Bank balance of the customer.\n",
    "- **numofproducts:** the number of bank products the customer is utilising.\n",
    "- **hascrcard:** The number of credit cards given to the customer by the bank.\n",
    "- **isactivemember:** Binary Flag for indicating if the client is active or not with the bank before the moment where the client exits the company (recorded in the variable \"exited\")\n",
    "- **exited:** Binary flag 1 if the customer closed account with bank and 0 if the customer is retained."
   ]
  },
  {
   "cell_type": "markdown",
   "metadata": {},
   "source": [
    "---\n",
    "---"
   ]
  },
  {
   "cell_type": "markdown",
   "metadata": {
    "cell_style": "center"
   },
   "source": [
    "## Import  libraries & data"
   ]
  },
  {
   "cell_type": "code",
   "execution_count": null,
   "metadata": {
    "ExecuteTime": {
     "end_time": "2022-06-07T20:23:44.048660Z",
     "start_time": "2022-06-07T20:23:44.035696Z"
    }
   },
   "outputs": [],
   "source": [
    "# tfcpu envoirement used"
   ]
  },
  {
   "cell_type": "code",
   "execution_count": null,
   "metadata": {
    "ExecuteTime": {
     "end_time": "2022-06-07T20:23:48.017001Z",
     "start_time": "2022-06-07T20:23:44.049659Z"
    },
    "cell_style": "split",
    "executionInfo": {
     "elapsed": 991,
     "status": "ok",
     "timestamp": 1610201325502,
     "user": {
      "displayName": "Richard C",
      "photoUrl": "",
      "userId": "08040814671867660929"
     },
     "user_tz": -180
    },
    "id": "6VD4eWBQcze2"
   },
   "outputs": [],
   "source": [
    "# Importing the libraries for EDA\n",
    "import numpy as np\n",
    "import pandas as pd\n",
    "import seaborn as sns\n",
    "import matplotlib.pyplot as plt\n",
    "\n",
    "%matplotlib inline\n",
    "# %matplotlib notebook\n",
    "plt.rcParams[\"figure.figsize\"] = (12, 6)\n",
    "# plt.rcParams['figure.dpi'] = 100\n",
    "sns.set_style(\"whitegrid\")\n",
    "import warnings\n",
    "\n",
    "warnings.filterwarnings(\"ignore\")\n",
    "warnings.warn(\"this will not show\")\n",
    "pd.set_option('display.float_format', lambda x: '%.3f' % x)"
   ]
  },
  {
   "cell_type": "code",
   "execution_count": null,
   "metadata": {
    "ExecuteTime": {
     "end_time": "2022-06-07T20:23:52.408348Z",
     "start_time": "2022-06-07T20:23:48.018997Z"
    },
    "cell_style": "split",
    "executionInfo": {
     "elapsed": 829,
     "status": "ok",
     "timestamp": 1610204616389,
     "user": {
      "displayName": "Richard C",
      "photoUrl": "",
      "userId": "08040814671867660929"
     },
     "user_tz": -180
    },
    "id": "YzzxpfNaoFyZ"
   },
   "outputs": [],
   "source": [
    "# Importing libraries for DL and ML\n",
    "import tensorflow as tf\n",
    "from tensorflow.keras.models import Sequential\n",
    "from tensorflow.keras.layers import Dense, Activation, Dropout \n",
    "from tensorflow.keras.callbacks import EarlyStopping\n",
    "from tensorflow.keras.optimizers import Adam\n",
    "from sklearn.metrics import classification_report, confusion_matrix\n",
    "from sklearn.metrics import roc_auc_score, roc_curve, precision_recall_curve, average_precision_score\n",
    "from sklearn.model_selection import cross_val_score, cross_validate\n",
    "from sklearn.model_selection import GridSearchCV\n",
    "from sklearn.model_selection import train_test_split\n",
    "from sklearn.preprocessing import MinMaxScaler\n",
    "from livelossplot import PlotLossesKerasTF # "
   ]
  },
  {
   "cell_type": "code",
   "execution_count": null,
   "metadata": {
    "ExecuteTime": {
     "end_time": "2022-06-07T20:23:52.455222Z",
     "start_time": "2022-06-07T20:23:52.410343Z"
    }
   },
   "outputs": [],
   "source": [
    "df = pd.read_csv(\"Churn_Modelling.csv\", index_col='RowNumber')\n",
    "df.head()"
   ]
  },
  {
   "cell_type": "markdown",
   "metadata": {},
   "source": [
    "## Exploratory Data Analysis and Visualization"
   ]
  },
  {
   "cell_type": "code",
   "execution_count": null,
   "metadata": {
    "ExecuteTime": {
     "end_time": "2022-06-07T20:23:52.485142Z",
     "start_time": "2022-06-07T20:23:52.456220Z"
    },
    "cell_style": "split",
    "colab": {
     "base_uri": "https://localhost:8080/"
    },
    "executionInfo": {
     "elapsed": 854,
     "status": "ok",
     "timestamp": 1610201704635,
     "user": {
      "displayName": "Richard C",
      "photoUrl": "",
      "userId": "08040814671867660929"
     },
     "user_tz": -180
    },
    "id": "9ROCQa9wf2uE",
    "outputId": "40e94921-6a7c-48c6-8c09-2623b6b60fa3",
    "scrolled": false
   },
   "outputs": [],
   "source": [
    "df.info()"
   ]
  },
  {
   "cell_type": "code",
   "execution_count": null,
   "metadata": {
    "ExecuteTime": {
     "end_time": "2022-06-07T20:23:52.504601Z",
     "start_time": "2022-06-07T20:23:52.487139Z"
    },
    "cell_style": "split",
    "colab": {
     "base_uri": "https://localhost:8080/"
    },
    "executionInfo": {
     "elapsed": 798,
     "status": "ok",
     "timestamp": 1610201657421,
     "user": {
      "displayName": "Richard C",
      "photoUrl": "",
      "userId": "08040814671867660929"
     },
     "user_tz": -180
    },
    "id": "vPyMUnVWfM0o",
    "outputId": "7a294ad3-49d9-4cea-b6a2-9824e2c0ba4a"
   },
   "outputs": [],
   "source": [
    "df.shape"
   ]
  },
  {
   "cell_type": "code",
   "execution_count": null,
   "metadata": {
    "ExecuteTime": {
     "end_time": "2022-06-07T20:23:52.532526Z",
     "start_time": "2022-06-07T20:23:52.507594Z"
    },
    "cell_style": "split"
   },
   "outputs": [],
   "source": [
    "df.isnull().sum().any() # No missing values"
   ]
  },
  {
   "cell_type": "code",
   "execution_count": null,
   "metadata": {
    "ExecuteTime": {
     "end_time": "2022-06-07T20:23:52.548483Z",
     "start_time": "2022-06-07T20:23:52.533523Z"
    },
    "cell_style": "split",
    "scrolled": true
   },
   "outputs": [],
   "source": [
    "df.duplicated().sum() # No duplicates"
   ]
  },
  {
   "cell_type": "code",
   "execution_count": null,
   "metadata": {
    "ExecuteTime": {
     "end_time": "2022-06-07T20:23:52.595358Z",
     "start_time": "2022-06-07T20:23:52.551475Z"
    },
    "cell_style": "center",
    "colab": {
     "base_uri": "https://localhost:8080/",
     "height": 1000
    },
    "executionInfo": {
     "elapsed": 967,
     "status": "ok",
     "timestamp": 1610201729941,
     "user": {
      "displayName": "Richard C",
      "photoUrl": "",
      "userId": "08040814671867660929"
     },
     "user_tz": -180
    },
    "id": "mdUkgZD-gCUx",
    "outputId": "cd4f6662-e8c3-4a6f-93d5-26fed83d8a82",
    "scrolled": false
   },
   "outputs": [],
   "source": [
    "df.describe().T # summary statistics\n",
    "\n"
   ]
  },
  {
   "cell_type": "code",
   "execution_count": null,
   "metadata": {
    "ExecuteTime": {
     "end_time": "2022-06-07T20:23:52.610317Z",
     "start_time": "2022-06-07T20:23:52.597352Z"
    }
   },
   "outputs": [],
   "source": [
    "# pip install sweetviz"
   ]
  },
  {
   "cell_type": "code",
   "execution_count": null,
   "metadata": {
    "ExecuteTime": {
     "end_time": "2022-06-07T20:24:00.956244Z",
     "start_time": "2022-06-07T20:23:52.611315Z"
    }
   },
   "outputs": [],
   "source": [
    "import sweetviz # for visualizing the data\n",
    "\n",
    "my_report = sweetviz.analyze([df, \"original data\"],target_feat='Exited')\n",
    "\n",
    "my_report.show_notebook(layout=\"vertical\", w =\"980\", h= 700, scale= .8)"
   ]
  },
  {
   "cell_type": "code",
   "execution_count": null,
   "metadata": {
    "ExecuteTime": {
     "end_time": "2022-06-07T20:24:01.098390Z",
     "start_time": "2022-06-07T20:24:00.958239Z"
    },
    "scrolled": false
   },
   "outputs": [],
   "source": [
    "df.Balance.plot(kind=\"box\",vert=False)"
   ]
  },
  {
   "cell_type": "code",
   "execution_count": null,
   "metadata": {
    "ExecuteTime": {
     "end_time": "2022-06-07T20:24:01.113349Z",
     "start_time": "2022-06-07T20:24:01.099387Z"
    }
   },
   "outputs": [],
   "source": [
    "df.drop(['CustomerId', 'Surname'], axis=1, inplace=True)"
   ]
  },
  {
   "cell_type": "code",
   "execution_count": null,
   "metadata": {
    "ExecuteTime": {
     "end_time": "2022-06-07T20:24:01.272073Z",
     "start_time": "2022-06-07T20:24:01.114347Z"
    },
    "cell_style": "split",
    "colab": {
     "base_uri": "https://localhost:8080/",
     "height": 297
    },
    "executionInfo": {
     "elapsed": 1052,
     "status": "ok",
     "timestamp": 1610201940310,
     "user": {
      "displayName": "Richard C",
      "photoUrl": "",
      "userId": "08040814671867660929"
     },
     "user_tz": -180
    },
    "id": "_7vHUi5Hgldj",
    "outputId": "0018aaa8-d479-40c3-f973-161c63e7a77b"
   },
   "outputs": [],
   "source": [
    "print(df.Exited.value_counts())\n",
    "sns.countplot(df[\"Exited\"]);"
   ]
  },
  {
   "cell_type": "code",
   "execution_count": null,
   "metadata": {
    "ExecuteTime": {
     "end_time": "2022-06-07T20:24:02.909459Z",
     "start_time": "2022-06-07T20:24:01.273071Z"
    },
    "cell_style": "split",
    "scrolled": true
   },
   "outputs": [],
   "source": [
    "df.hist(figsize=(15, 12), bins=15, xrot=90);\n",
    "plt.tight_layout()\n"
   ]
  },
  {
   "cell_type": "code",
   "execution_count": null,
   "metadata": {
    "ExecuteTime": {
     "end_time": "2022-06-07T20:24:03.440293Z",
     "start_time": "2022-06-07T20:24:02.910458Z"
    },
    "scrolled": false
   },
   "outputs": [],
   "source": [
    "cat_list = [\"Gender\", \"HasCrCard\", \"IsActiveMember\", \"Geography\"]\n",
    "index = 0\n",
    "plt.figure(figsize=(16, 12))\n",
    "for i in cat_list:\n",
    "    index += 1\n",
    "    plt.subplot(2, 2, index)\n",
    "    sns.countplot(data=df, x=i, hue=\"Exited\")"
   ]
  },
  {
   "cell_type": "code",
   "execution_count": null,
   "metadata": {
    "ExecuteTime": {
     "end_time": "2022-06-07T20:24:03.456251Z",
     "start_time": "2022-06-07T20:24:03.441290Z"
    },
    "cell_style": "split"
   },
   "outputs": [],
   "source": [
    "df.groupby(\"Age\")[\"Exited\"].value_counts()\n"
   ]
  },
  {
   "cell_type": "code",
   "execution_count": null,
   "metadata": {
    "ExecuteTime": {
     "end_time": "2022-06-07T20:24:04.656196Z",
     "start_time": "2022-06-07T20:24:03.458245Z"
    },
    "cell_style": "split"
   },
   "outputs": [],
   "source": [
    "plt.figure(figsize=(20, 7))\n",
    "sns.countplot(df.Age, hue=df.Exited);"
   ]
  },
  {
   "cell_type": "code",
   "execution_count": null,
   "metadata": {
    "ExecuteTime": {
     "end_time": "2022-06-07T20:24:04.672172Z",
     "start_time": "2022-06-07T20:24:04.657194Z"
    }
   },
   "outputs": [],
   "source": [
    "df.CreditScore.describe()"
   ]
  },
  {
   "cell_type": "code",
   "execution_count": null,
   "metadata": {
    "ExecuteTime": {
     "end_time": "2022-06-07T20:24:04.688128Z",
     "start_time": "2022-06-07T20:24:04.674166Z"
    }
   },
   "outputs": [],
   "source": [
    "def credit_transformer(x, y):\n",
    "\"\"\"to prodduce a new value by using credit score and has credit card\"\"\"\n",
    "\n",
    "    if x < 350 and y == 0:\n",
    "        return 0\n",
    "    if x < 350 and y > 0:\n",
    "        return 1\n",
    "    if x < 718 and y == 0:\n",
    "        return 2\n",
    "    if x < 718 and y > 0:\n",
    "        return 3\n",
    "    else:\n",
    "        return 4"
   ]
  },
  {
   "cell_type": "code",
   "execution_count": null,
   "metadata": {
    "ExecuteTime": {
     "end_time": "2022-06-07T20:24:04.718558Z",
     "start_time": "2022-06-07T20:24:04.689126Z"
    },
    "scrolled": true
   },
   "outputs": [],
   "source": [
    "customer_value = [\n",
    "    credit_transformer(x, y) for x, y in zip(df.CreditScore, df.HasCrCard)\n",
    "]\n",
    "customer_value[:10]"
   ]
  },
  {
   "cell_type": "code",
   "execution_count": null,
   "metadata": {
    "ExecuteTime": {
     "end_time": "2022-06-07T20:24:04.734515Z",
     "start_time": "2022-06-07T20:24:04.720553Z"
    }
   },
   "outputs": [],
   "source": [
    "df.insert(10, \"customer_value\", customer_value)"
   ]
  },
  {
   "cell_type": "code",
   "execution_count": null,
   "metadata": {
    "ExecuteTime": {
     "end_time": "2022-06-07T20:24:04.750472Z",
     "start_time": "2022-06-07T20:24:04.736512Z"
    }
   },
   "outputs": [],
   "source": [
    "df.customer_value"
   ]
  },
  {
   "cell_type": "markdown",
   "metadata": {},
   "source": [
    "\n"
   ]
  },
  {
   "cell_type": "markdown",
   "metadata": {},
   "source": [
    "----"
   ]
  },
  {
   "cell_type": "code",
   "execution_count": null,
   "metadata": {
    "ExecuteTime": {
     "end_time": "2022-06-07T20:24:05.534506Z",
     "start_time": "2022-06-07T20:24:04.752468Z"
    },
    "cell_style": "center",
    "colab": {
     "base_uri": "https://localhost:8080/",
     "height": 981
    },
    "executionInfo": {
     "elapsed": 5978,
     "status": "ok",
     "timestamp": 1610202268770,
     "user": {
      "displayName": "Richard C",
      "photoUrl": "",
      "userId": "08040814671867660929"
     },
     "user_tz": -180
    },
    "id": "fNDK3HprhSU3",
    "outputId": "98fe8eba-dc36-4cc7-96ad-ff61182d12a2",
    "scrolled": false
   },
   "outputs": [],
   "source": [
    "plt.figure(figsize=(16, 12))\n",
    "sns.heatmap(df.corr(), annot=True, cmap='viridis')"
   ]
  },
  {
   "cell_type": "code",
   "execution_count": null,
   "metadata": {
    "ExecuteTime": {
     "end_time": "2022-06-07T20:24:05.723620Z",
     "start_time": "2022-06-07T20:24:05.536501Z"
    },
    "cell_style": "center",
    "colab": {
     "base_uri": "https://localhost:8080/",
     "height": 391
    },
    "executionInfo": {
     "elapsed": 1405,
     "status": "ok",
     "timestamp": 1610203065835,
     "user": {
      "displayName": "Richard C",
      "photoUrl": "",
      "userId": "08040814671867660929"
     },
     "user_tz": -180
    },
    "id": "IasR3c8ajeC0",
    "outputId": "4742bedb-e6bc-4967-f1cd-c36f7610f33e"
   },
   "outputs": [],
   "source": [
    "df.corr()['Exited'][:-1].sort_values().plot.bar()"
   ]
  },
  {
   "cell_type": "markdown",
   "metadata": {},
   "source": [
    "## Preprocessing of Data"
   ]
  },
  {
   "cell_type": "code",
   "execution_count": null,
   "metadata": {
    "ExecuteTime": {
     "end_time": "2022-06-07T20:24:05.755534Z",
     "start_time": "2022-06-07T20:24:05.724618Z"
    }
   },
   "outputs": [],
   "source": [
    "df = pd.get_dummies(df, drop_first=True)\n",
    "df.head()"
   ]
  },
  {
   "cell_type": "code",
   "execution_count": null,
   "metadata": {
    "ExecuteTime": {
     "end_time": "2022-06-07T20:24:05.785455Z",
     "start_time": "2022-06-07T20:24:05.772490Z"
    },
    "cell_style": "center",
    "executionInfo": {
     "elapsed": 1126,
     "status": "ok",
     "timestamp": 1610203246314,
     "user": {
      "displayName": "Richard C",
      "photoUrl": "",
      "userId": "08040814671867660929"
     },
     "user_tz": -180
    },
    "id": "kjyTH753lq7M"
   },
   "outputs": [],
   "source": [
    "X = df.drop('Exited', axis=1)\n",
    "y = df['Exited'].values\n",
    "\n",
    "X_train, X_test, y_train, y_test = train_test_split(X,\n",
    "                                                    y,\n",
    "                                                    stratify=y,\n",
    "                                                    test_size=0.,\n",
    "                                                    random_state=42)\n"
   ]
  },
  {
   "cell_type": "code",
   "execution_count": null,
   "metadata": {
    "ExecuteTime": {
     "end_time": "2022-06-07T20:24:05.801412Z",
     "start_time": "2022-06-07T20:24:05.787452Z"
    },
    "cell_style": "split"
   },
   "outputs": [],
   "source": [
    "scaler = MinMaxScaler() # Minmax scaler mostly used for deep learning as a rule of thumb"
   ]
  },
  {
   "cell_type": "code",
   "execution_count": null,
   "metadata": {
    "ExecuteTime": {
     "end_time": "2022-06-07T20:24:05.816373Z",
     "start_time": "2022-06-07T20:24:05.803407Z"
    },
    "cell_style": "split",
    "executionInfo": {
     "elapsed": 696,
     "status": "ok",
     "timestamp": 1610203508023,
     "user": {
      "displayName": "Richard C",
      "photoUrl": "",
      "userId": "08040814671867660929"
     },
     "user_tz": -180
    },
    "id": "Fgy3D9SBmWcq"
   },
   "outputs": [],
   "source": [
    "X_train = scaler.fit_transform(X_train)\n",
    "X_test = scaler.transform(X_test)"
   ]
  },
  {
   "cell_type": "markdown",
   "metadata": {
    "id": "Ha9hDt_AoGaE"
   },
   "source": [
    "## Modelling & Model Performance"
   ]
  },
  {
   "cell_type": "markdown",
   "metadata": {},
   "source": [
    "<span class=\"mark\">How many hidden layers should I use? : http://www.faqs.org/faqs/ai-faq/neural-nets/part3/section-9.html (mirror: http://francky.me/aifaq/FAQ-comp.ai.neural-net.pdf)\n",
    "How many hidden units should I use? : http://www.faqs.org/faqs/ai-faq/neural-nets/part3/section-10.html (mirror: http://francky.me/aifaq/FAQ-comp.ai.neural-net.pdf)\n",
    "What is genetic algorithm? : https://www.researchgate.net/post/What_is_genetic_algorithm1\n",
    "Genetic algorithm + neural networks: http://francky.me/doc/mrf2011-HEC-ISIR-ENS_en.pdf (chapter 2.2)</span>"
   ]
  },
  {
   "cell_type": "markdown",
   "metadata": {},
   "source": [
    "### without class_weigth"
   ]
  },
  {
   "cell_type": "code",
   "execution_count": null,
   "metadata": {
    "ExecuteTime": {
     "end_time": "2022-06-07T20:24:05.910121Z",
     "start_time": "2022-06-07T20:24:05.818367Z"
    },
    "cell_style": "split"
   },
   "outputs": [],
   "source": [
    "tf.random.set_seed(42) # for reproducibility\n",
    "\n",
    "model = Sequential() # instantiate the model\n",
    "\n",
    "model.add(Dense(16, activation=\"relu\")) # add the input layer and the first hidden layer\n",
    "model.add(Dense(8, activation=\"relu\"))  # add the second hidden layer\n",
    "model.add(Dense(1, activation=\"sigmoid\")) # add the output layer\n",
    "\n",
    "opt = Adam(lr=0.001) # optimizer \n",
    "model.compile(optimizer=opt, \n",
    "              loss=\"binary_crossentropy\",\n",
    "              metrics=[\"Recall\"]) # loss function and metrics"
   ]
  },
  {
   "cell_type": "markdown",
   "metadata": {
    "cell_style": "split"
   },
   "source": [
    "<span class=\"burk\">The patience is often set somewhere between 10 and 100 (10 or 20 is more common), but it really depends on your dataset and network.</span>"
   ]
  },
  {
   "cell_type": "code",
   "execution_count": null,
   "metadata": {
    "ExecuteTime": {
     "end_time": "2022-06-07T20:24:05.925588Z",
     "start_time": "2022-06-07T20:24:05.911119Z"
    },
    "cell_style": "split"
   },
   "outputs": [],
   "source": [
    "early_stop = EarlyStopping(monitor=\"val_loss\",\n",
    "                           mode=\"auto\",\n",
    "                           verbose=1,\n",
    "                           patience=11,\n",
    "                           restore_best_weights = True)"
   ]
  },
  {
   "cell_type": "code",
   "execution_count": null,
   "metadata": {
    "ExecuteTime": {
     "end_time": "2022-06-07T20:24:48.094514Z",
     "start_time": "2022-06-07T20:24:05.926585Z"
    },
    "cell_style": "center",
    "scrolled": false
   },
   "outputs": [],
   "source": [
    "model.fit(x=X_train,\n",
    "          y=y_train,\n",
    "          validation_split=.1,\n",
    "          batch_size=128,\n",
    "          epochs=200,\n",
    "          verbose=1,\n",
    "          callbacks=[early_stop,PlotLossesKerasTF()])"
   ]
  },
  {
   "cell_type": "code",
   "execution_count": null,
   "metadata": {
    "ExecuteTime": {
     "end_time": "2022-06-07T20:24:48.111469Z",
     "start_time": "2022-06-07T20:24:48.096509Z"
    },
    "cell_style": "center",
    "scrolled": false
   },
   "outputs": [],
   "source": [
    "model.summary() # summary of the model, how many layers, how many nodes in each layer"
   ]
  },
  {
   "cell_type": "code",
   "execution_count": null,
   "metadata": {
    "ExecuteTime": {
     "end_time": "2022-06-07T20:24:48.342359Z",
     "start_time": "2022-06-07T20:24:48.114462Z"
    },
    "cell_style": "split",
    "executionInfo": {
     "elapsed": 809,
     "status": "ok",
     "timestamp": 1610205470123,
     "user": {
      "displayName": "Richard C",
      "photoUrl": "",
      "userId": "08040814671867660929"
     },
     "user_tz": -180
    },
    "id": "vQIbjGQduQpQ"
   },
   "outputs": [],
   "source": [
    "loss_df = pd.DataFrame(model.history.history) # loss function history for each epoch\n",
    "loss_df.plot()"
   ]
  },
  {
   "cell_type": "code",
   "execution_count": null,
   "metadata": {
    "ExecuteTime": {
     "end_time": "2022-06-07T20:24:48.499445Z",
     "start_time": "2022-06-07T20:24:48.344354Z"
    },
    "cell_style": "split",
    "scrolled": true,
    "tags": []
   },
   "outputs": [],
   "source": [
    "y_pred = (model.predict(X_test) > .5).astype(\"int32\") # to convert the probabilities into binary values\n",
    "print(confusion_matrix(y_test, y_pred))\n",
    "print(classification_report(y_test, y_pred))"
   ]
  },
  {
   "cell_type": "markdown",
   "metadata": {
    "tags": []
   },
   "source": [
    "### ROC (Receiver Operating Curve) and AUC (Area Under Curve) for model"
   ]
  },
  {
   "cell_type": "code",
   "execution_count": null,
   "metadata": {
    "ExecuteTime": {
     "end_time": "2022-06-07T20:24:48.747288Z",
     "start_time": "2022-06-07T20:24:48.500442Z"
    },
    "cell_style": "split"
   },
   "outputs": [],
   "source": [
    "y_pred_proba = model.predict(X_test)\n",
    "precisions, recalls, thresholds = precision_recall_curve(y_test, y_pred_proba)\n",
    "plt.plot(recalls, precisions, label='ANN')\n",
    "plt.xlabel('recalls')\n",
    "plt.ylabel('precisions')\n",
    "plt.title('Precision-Recall curve')\n",
    "plt.show()"
   ]
  },
  {
   "cell_type": "code",
   "execution_count": null,
   "metadata": {
    "ExecuteTime": {
     "end_time": "2022-06-07T20:24:48.763246Z",
     "start_time": "2022-06-07T20:24:48.749284Z"
    },
    "cell_style": "split",
    "scrolled": true
   },
   "outputs": [],
   "source": [
    "average_precision_score(y_test, y_pred_proba)"
   ]
  },
  {
   "cell_type": "markdown",
   "metadata": {},
   "source": [
    "### with class_weigth"
   ]
  },
  {
   "cell_type": "code",
   "execution_count": null,
   "metadata": {
    "ExecuteTime": {
     "end_time": "2022-06-07T20:24:48.794666Z",
     "start_time": "2022-06-07T20:24:48.765241Z"
    },
    "cell_style": "split"
   },
   "outputs": [],
   "source": [
    "tf.random.set_seed(42)\n",
    "\n",
    "model = Sequential()\n",
    "\n",
    "model.add(Dense(16, activation=\"relu\"))\n",
    "model.add(Dense(8, activation=\"relu\"))\n",
    "model.add(Dense(1, activation=\"sigmoid\"))\n",
    "\n",
    "opt = Adam(lr=0.001)\n",
    "model.compile(optimizer=opt, \n",
    "              loss=\"binary_crossentropy\",\n",
    "              metrics=[\"Recall\"])"
   ]
  },
  {
   "cell_type": "code",
   "execution_count": null,
   "metadata": {
    "ExecuteTime": {
     "end_time": "2022-06-07T20:24:48.810623Z",
     "start_time": "2022-06-07T20:24:48.795663Z"
    },
    "cell_style": "split"
   },
   "outputs": [],
   "source": [
    "early_stop = EarlyStopping(monitor=\"val_loss\",\n",
    "                           mode=\"auto\",\n",
    "                           verbose=1,\n",
    "                           patience=10,\n",
    "                           restore_best_weights = True)"
   ]
  },
  {
   "cell_type": "code",
   "execution_count": null,
   "metadata": {
    "ExecuteTime": {
     "end_time": "2022-06-07T20:24:48.826582Z",
     "start_time": "2022-06-07T20:24:48.811621Z"
    }
   },
   "outputs": [],
   "source": [
    "from sklearn.utils import class_weight\n",
    "\n",
    "class_weights = class_weight.compute_class_weight('balanced',\n",
    "                                                  classes=np.unique(y_train),\n",
    "                                                  y=y_train)\n",
    "\n",
    "class_weights = {0: class_weights[0], 1: class_weights[1]}\n",
    "class_weights"
   ]
  },
  {
   "cell_type": "code",
   "execution_count": null,
   "metadata": {
    "ExecuteTime": {
     "end_time": "2022-06-07T20:25:11.763619Z",
     "start_time": "2022-06-07T20:24:48.828576Z"
    },
    "scrolled": false
   },
   "outputs": [],
   "source": [
    "model.fit(x=X_train,\n",
    "          y=y_train,\n",
    "          validation_split=.1,\n",
    "          batch_size=128,\n",
    "          epochs=200,\n",
    "          verbose=1,\n",
    "          callbacks=[early_stop,PlotLossesKerasTF()],\n",
    "          class_weight=class_weights)"
   ]
  },
  {
   "cell_type": "code",
   "execution_count": null,
   "metadata": {
    "ExecuteTime": {
     "end_time": "2022-06-07T20:25:11.967578Z",
     "start_time": "2022-06-07T20:25:11.764616Z"
    },
    "cell_style": "split",
    "executionInfo": {
     "elapsed": 809,
     "status": "ok",
     "timestamp": 1610205470123,
     "user": {
      "displayName": "Richard C",
      "photoUrl": "",
      "userId": "08040814671867660929"
     },
     "user_tz": -180
    },
    "id": "vQIbjGQduQpQ",
    "scrolled": true
   },
   "outputs": [],
   "source": [
    "loss_df = pd.DataFrame(model.history.history)\n",
    "loss_df.plot()"
   ]
  },
  {
   "cell_type": "code",
   "execution_count": null,
   "metadata": {
    "ExecuteTime": {
     "end_time": "2022-06-07T20:25:12.090249Z",
     "start_time": "2022-06-07T20:25:11.975556Z"
    },
    "cell_style": "split",
    "scrolled": true
   },
   "outputs": [],
   "source": [
    "y_pred = (model.predict(X_test) > .5).astype(\"int32\")\n",
    "print(confusion_matrix(y_test, y_pred))\n",
    "print(classification_report(y_test, y_pred))"
   ]
  },
  {
   "cell_type": "markdown",
   "metadata": {},
   "source": [
    "### ROC (Receiver Operating Curve) and AUC (Area Under Curve) for model"
   ]
  },
  {
   "cell_type": "code",
   "execution_count": null,
   "metadata": {
    "ExecuteTime": {
     "end_time": "2022-06-07T20:25:12.326630Z",
     "start_time": "2022-06-07T20:25:12.092244Z"
    },
    "cell_style": "split",
    "scrolled": true
   },
   "outputs": [],
   "source": [
    "y_pred_proba = model.predict(X_test)\n",
    "precisions, recalls, thresholds = precision_recall_curve(y_test, y_pred_proba)\n",
    "plt.plot(recalls, precisions, label='ANN')\n",
    "plt.xlabel('recalls')\n",
    "plt.ylabel('precisions')\n",
    "plt.title('Precision-Recall curve')\n",
    "plt.show()"
   ]
  },
  {
   "cell_type": "code",
   "execution_count": null,
   "metadata": {
    "ExecuteTime": {
     "end_time": "2022-06-07T20:25:12.342587Z",
     "start_time": "2022-06-07T20:25:12.327627Z"
    },
    "cell_style": "split"
   },
   "outputs": [],
   "source": [
    "average_precision_score(y_test, y_pred_proba)"
   ]
  },
  {
   "cell_type": "markdown",
   "metadata": {},
   "source": [
    "## GridSearchCV"
   ]
  },
  {
   "cell_type": "code",
   "execution_count": null,
   "metadata": {
    "ExecuteTime": {
     "end_time": "2022-06-07T20:25:12.358546Z",
     "start_time": "2022-06-07T20:25:12.344583Z"
    }
   },
   "outputs": [],
   "source": [
    "from tensorflow.keras.wrappers.scikit_learn import KerasClassifier # to use the model in sklearn\n",
    "from tensorflow.keras.optimizers import Adam, Adadelta, RMSprop, Nadam  # optimizers for gradient descent to use in backpropagation"
   ]
  },
  {
   "cell_type": "code",
   "execution_count": null,
   "metadata": {
    "ExecuteTime": {
     "end_time": "2022-06-07T20:25:12.374502Z",
     "start_time": "2022-06-07T20:25:12.360540Z"
    }
   },
   "outputs": [],
   "source": [
    "def build_classifier(optimizer,learn_rate): # function to build the model\n",
    "    tf.random.set_seed(42)\n",
    "    classifier = Sequential()\n",
    "    classifier.add(Dense(units=16, activation='relu'))\n",
    "    classifier.add(Dense(units=8, activation='relu'))\n",
    "    classifier.add(Dense(units=1, activation='sigmoid'))\n",
    "    classifier.compile(optimizer=optimizer(learn_rate),\n",
    "                       loss='binary_crossentropy',\n",
    "                       metrics=['Recall'])\n",
    "    return classifier"
   ]
  },
  {
   "cell_type": "code",
   "execution_count": null,
   "metadata": {
    "ExecuteTime": {
     "end_time": "2022-06-07T20:25:12.390459Z",
     "start_time": "2022-06-07T20:25:12.376496Z"
    }
   },
   "outputs": [],
   "source": [
    "class_weights"
   ]
  },
  {
   "cell_type": "code",
   "execution_count": null,
   "metadata": {
    "ExecuteTime": {
     "end_time": "2022-06-07T20:28:46.314513Z",
     "start_time": "2022-06-07T20:25:12.392454Z"
    },
    "scrolled": true
   },
   "outputs": [],
   "source": [
    "classifier = KerasClassifier(build_fn=build_classifier, validation_split = 0.1, epochs=150) # instantiate the classifier\n",
    "parameters = {\n",
    "    'batch_size': [128, 256],\n",
    "    'optimizer': [Adam, RMSprop, Adadelta, Nadam],\n",
    "    'learn_rate': [0.001, 0.003]\n",
    "} # parameters to tune\n",
    "grid_model = GridSearchCV(estimator=classifier,\n",
    "                          param_grid=parameters,\n",
    "                          scoring='recall',\n",
    "                          cv=5,\n",
    "                          n_jobs=-1,\n",
    "                          verbose=0).fit(X_train,\n",
    "                                         y_train,\n",
    "                                         class_weight=class_weights) # grid search to find the best parameters"
   ]
  },
  {
   "cell_type": "code",
   "execution_count": null,
   "metadata": {
    "ExecuteTime": {
     "end_time": "2022-06-07T20:28:46.330473Z",
     "start_time": "2022-06-07T20:28:46.316510Z"
    }
   },
   "outputs": [],
   "source": [
    "grid_model.best_score_ # best score according to the scoring function"
   ]
  },
  {
   "cell_type": "code",
   "execution_count": null,
   "metadata": {
    "ExecuteTime": {
     "end_time": "2022-06-07T20:28:46.345940Z",
     "start_time": "2022-06-07T20:28:46.332466Z"
    }
   },
   "outputs": [],
   "source": [
    "grid_model.best_params_ # best parameters to get the best score"
   ]
  },
  {
   "cell_type": "code",
   "execution_count": null,
   "metadata": {
    "ExecuteTime": {
     "end_time": "2022-06-07T20:28:46.469736Z",
     "start_time": "2022-06-07T20:28:46.347935Z"
    }
   },
   "outputs": [],
   "source": [
    "y_pred = grid_model.predict(X_test)\n",
    "print(confusion_matrix(y_test, y_pred))\n",
    "print(classification_report(y_test, y_pred))"
   ]
  },
  {
   "cell_type": "markdown",
   "metadata": {},
   "source": [
    "### ROC (Receiver Operating Curve) and AUC (Area Under Curve) for grid_model"
   ]
  },
  {
   "cell_type": "code",
   "execution_count": null,
   "metadata": {
    "ExecuteTime": {
     "end_time": "2022-06-07T20:28:46.704615Z",
     "start_time": "2022-06-07T20:28:46.471731Z"
    },
    "cell_style": "split",
    "scrolled": false
   },
   "outputs": [],
   "source": [
    "y_pred_proba = grid_model.predict_proba(X_test)[:, 1]\n",
    "precisions, recalls, thresholds = precision_recall_curve(y_test, y_pred_proba)\n",
    "plt.plot(recalls, precisions, label='ANN')\n",
    "plt.xlabel('recalls')\n",
    "plt.ylabel('precisions')\n",
    "plt.title('Precision-Recall curve')\n",
    "plt.show()"
   ]
  },
  {
   "cell_type": "code",
   "execution_count": null,
   "metadata": {
    "ExecuteTime": {
     "end_time": "2022-06-07T20:28:46.720572Z",
     "start_time": "2022-06-07T20:28:46.705612Z"
    },
    "cell_style": "split",
    "scrolled": true
   },
   "outputs": [],
   "source": [
    "average_precision_score(y_test, y_pred_proba) "
   ]
  },
  {
   "cell_type": "markdown",
   "metadata": {},
   "source": [
    "## Final Model and Model Deployment"
   ]
  },
  {
   "cell_type": "code",
   "execution_count": null,
   "metadata": {
    "ExecuteTime": {
     "end_time": "2022-06-07T20:28:46.736529Z",
     "start_time": "2022-06-07T20:28:46.722567Z"
    }
   },
   "outputs": [],
   "source": [
    "import pickle # to save the model or scalling parameters\n",
    "\n",
    "pickle.dump(scaler, open(\"scaler_churn\", 'wb')) # to save the scaler"
   ]
  },
  {
   "cell_type": "code",
   "execution_count": null,
   "metadata": {
    "ExecuteTime": {
     "end_time": "2022-06-07T20:29:06.534674Z",
     "start_time": "2022-06-07T20:28:46.737527Z"
    },
    "scrolled": false
   },
   "outputs": [],
   "source": [
    "tf.random.set_seed(42)\n",
    "model = Sequential()\n",
    "\n",
    "model.add(Dense(16, activation=\"relu\"))\n",
    "model.add(Dense(8, activation=\"relu\"))\n",
    "model.add(Dense(1, activation=\"sigmoid\"))\n",
    "\n",
    "model.compile(optimizer=Adam(learning_rate=0.003),\n",
    "              loss=\"binary_crossentropy\",\n",
    "              metrics=[\"Recall\"])\n",
    "\n",
    "model.fit(x=X_train,\n",
    "          y=y_train,\n",
    "          validation_data=(X_test, y_test),\n",
    "          callbacks=[early_stop, PlotLossesKerasTF()],\n",
    "          batch_size=128,\n",
    "          epochs=200,\n",
    "          verbose=1,\n",
    "          class_weight=class_weights)"
   ]
  },
  {
   "cell_type": "code",
   "execution_count": null,
   "metadata": {
    "ExecuteTime": {
     "end_time": "2022-06-07T20:29:06.738635Z",
     "start_time": "2022-06-07T20:29:06.535672Z"
    },
    "cell_style": "split",
    "executionInfo": {
     "elapsed": 809,
     "status": "ok",
     "timestamp": 1610205470123,
     "user": {
      "displayName": "Richard C",
      "photoUrl": "",
      "userId": "08040814671867660929"
     },
     "user_tz": -180
    },
    "id": "vQIbjGQduQpQ",
    "scrolled": true
   },
   "outputs": [],
   "source": [
    "loss_df = pd.DataFrame(model.history.history)\n",
    "loss_df.plot()"
   ]
  },
  {
   "cell_type": "code",
   "execution_count": null,
   "metadata": {
    "ExecuteTime": {
     "end_time": "2022-06-07T20:29:06.848851Z",
     "start_time": "2022-06-07T20:29:06.739633Z"
    },
    "cell_style": "split",
    "scrolled": false
   },
   "outputs": [],
   "source": [
    "y_pred = (model.predict(X_test) > .5).astype(\"int32\")\n",
    "print(confusion_matrix(y_test, y_pred))\n",
    "print(classification_report(y_test, y_pred))"
   ]
  },
  {
   "cell_type": "code",
   "execution_count": null,
   "metadata": {
    "ExecuteTime": {
     "end_time": "2022-06-07T20:29:06.879890Z",
     "start_time": "2022-06-07T20:29:06.849975Z"
    }
   },
   "outputs": [],
   "source": [
    "model.save('model_churn.h5')"
   ]
  },
  {
   "cell_type": "markdown",
   "metadata": {
    "id": "Cq10ovAX6daY"
   },
   "source": [
    "### Prediction"
   ]
  },
  {
   "cell_type": "code",
   "execution_count": null,
   "metadata": {
    "ExecuteTime": {
     "end_time": "2022-06-07T20:29:06.894851Z",
     "start_time": "2022-06-07T20:29:06.880888Z"
    }
   },
   "outputs": [],
   "source": [
    "single_customer = df.drop('Exited', axis=1).iloc[0]\n",
    "single_customer"
   ]
  },
  {
   "cell_type": "code",
   "execution_count": null,
   "metadata": {
    "ExecuteTime": {
     "end_time": "2022-06-07T20:29:06.910810Z",
     "start_time": "2022-06-07T20:29:06.896846Z"
    }
   },
   "outputs": [],
   "source": [
    "single_customer1 = single_customer.copy()\n",
    "single_customer1[\"Age\"] = 40\n",
    "single_customer1[\"Balance\"] = 50000"
   ]
  },
  {
   "cell_type": "code",
   "execution_count": null,
   "metadata": {},
   "outputs": [],
   "source": []
  },
  {
   "cell_type": "code",
   "execution_count": null,
   "metadata": {
    "ExecuteTime": {
     "end_time": "2022-06-07T20:29:06.926766Z",
     "start_time": "2022-06-07T20:29:06.912803Z"
    }
   },
   "outputs": [],
   "source": [
    "single_customer = scaler.transform(single_customer.values.reshape(-1, 12))\n",
    "single_customer"
   ]
  },
  {
   "cell_type": "code",
   "execution_count": null,
   "metadata": {
    "ExecuteTime": {
     "end_time": "2022-06-07T20:29:06.942722Z",
     "start_time": "2022-06-07T20:29:06.928760Z"
    }
   },
   "outputs": [],
   "source": [
    "single_customer1 = scaler.transform(single_customer1.values.reshape(-1, 12))\n",
    "single_customer1"
   ]
  },
  {
   "cell_type": "code",
   "execution_count": null,
   "metadata": {
    "ExecuteTime": {
     "end_time": "2022-06-07T20:29:07.004558Z",
     "start_time": "2022-06-07T20:29:06.944719Z"
    }
   },
   "outputs": [],
   "source": [
    "model.predict(single_customer)"
   ]
  },
  {
   "cell_type": "code",
   "execution_count": null,
   "metadata": {
    "ExecuteTime": {
     "end_time": "2022-06-07T20:29:07.019517Z",
     "start_time": "2022-06-07T20:29:07.006553Z"
    }
   },
   "outputs": [],
   "source": [
    "df[\"Exited\"].iloc[0]"
   ]
  },
  {
   "cell_type": "code",
   "execution_count": null,
   "metadata": {
    "ExecuteTime": {
     "end_time": "2022-06-07T20:29:07.096819Z",
     "start_time": "2022-06-07T20:29:07.021513Z"
    }
   },
   "outputs": [],
   "source": [
    "model.predict(single_customer1) "
   ]
  },
  {
   "cell_type": "markdown",
   "metadata": {},
   "source": [
    "---\n",
    "---"
   ]
  },
  {
   "cell_type": "markdown",
   "metadata": {},
   "source": [
    "## Comparison with ML"
   ]
  },
  {
   "cell_type": "code",
   "execution_count": 69,
   "metadata": {
    "ExecuteTime": {
     "end_time": "2022-06-07T20:29:07.472935Z",
     "start_time": "2022-06-07T20:29:07.113774Z"
    }
   },
   "outputs": [],
   "source": [
    "from sklearn.pipeline import Pipeline\n",
    "from sklearn.ensemble import RandomForestClassifier\n",
    "from sklearn.svm import SVC\n",
    "from sklearn.linear_model import LogisticRegression"
   ]
  },
  {
   "cell_type": "code",
   "execution_count": 70,
   "metadata": {
    "ExecuteTime": {
     "end_time": "2022-06-07T20:29:07.487896Z",
     "start_time": "2022-06-07T20:29:07.474931Z"
    }
   },
   "outputs": [],
   "source": [
    "clf1 = RandomForestClassifier(random_state=42, class_weight=\"balanced\") \n",
    "clf2 = SVC(probability=True, random_state=42, class_weight=\"balanced\")\n",
    "clf3 = LogisticRegression(random_state=42, class_weight=\"balanced\")"
   ]
  },
  {
   "cell_type": "code",
   "execution_count": 71,
   "metadata": {
    "ExecuteTime": {
     "end_time": "2022-06-07T20:29:07.503853Z",
     "start_time": "2022-06-07T20:29:07.489891Z"
    },
    "cell_style": "split"
   },
   "outputs": [],
   "source": [
    "# Initilaze the hyperparameters for each dictionary\n",
    "param1 = {}\n",
    "param1['classifier__n_estimators'] = [10, 50, 100, 250]\n",
    "param1['classifier__max_depth'] = [5, 10, 20]\n",
    "param1['classifier'] = [clf1]\n",
    "\n",
    "param2 = {}\n",
    "param2['classifier__C'] = [10**(-2+i) for i in range(5)]\n",
    "param2['classifier'] = [clf2]\n",
    "\n",
    "param3 = {}\n",
    "param3['classifier__C'] = [10**(-2+i) for i in range(5)]\n",
    "param3['classifier__penalty'] = ['l1', 'l2']\n",
    "param3['classifier'] = [clf3]"
   ]
  },
  {
   "cell_type": "code",
   "execution_count": 72,
   "metadata": {
    "ExecuteTime": {
     "end_time": "2022-06-07T20:29:07.518813Z",
     "start_time": "2022-06-07T20:29:07.505848Z"
    },
    "cell_style": "split"
   },
   "outputs": [],
   "source": [
    "pipeline = Pipeline([('classifier', clf1)]) # pipeline to combine the classifiers\n",
    "params = [param1, param2, param3] # list of dictionaries to tune the hyperparameters"
   ]
  },
  {
   "cell_type": "code",
   "execution_count": 73,
   "metadata": {
    "ExecuteTime": {
     "end_time": "2022-06-07T20:30:51.595040Z",
     "start_time": "2022-06-07T20:29:07.520809Z"
    },
    "cell_style": "center"
   },
   "outputs": [],
   "source": [
    "grid_model = GridSearchCV(pipeline, params, cv=5, n_jobs=-1,\n",
    "                  scoring='recall').fit(X_train, y_train)"
   ]
  },
  {
   "cell_type": "code",
   "execution_count": 74,
   "metadata": {
    "ExecuteTime": {
     "end_time": "2022-06-07T20:30:51.610998Z",
     "start_time": "2022-06-07T20:30:51.596039Z"
    },
    "cell_style": "center"
   },
   "outputs": [
    {
     "data": {
      "text/plain": [
       "{'classifier': RandomForestClassifier(class_weight='balanced', max_depth=5, n_estimators=250,\n",
       "                        random_state=42),\n",
       " 'classifier__max_depth': 5,\n",
       " 'classifier__n_estimators': 250}"
      ]
     },
     "execution_count": 74,
     "metadata": {},
     "output_type": "execute_result"
    }
   ],
   "source": [
    "grid_model.best_params_ # best parameters to get the best score"
   ]
  },
  {
   "cell_type": "code",
   "execution_count": 75,
   "metadata": {
    "ExecuteTime": {
     "end_time": "2022-06-07T20:30:51.626956Z",
     "start_time": "2022-06-07T20:30:51.612993Z"
    },
    "cell_style": "center"
   },
   "outputs": [
    {
     "data": {
      "text/plain": [
       "0.7146722055955093"
      ]
     },
     "execution_count": 75,
     "metadata": {},
     "output_type": "execute_result"
    }
   ],
   "source": [
    "grid_model.best_score_ # best score according to the scoring function"
   ]
  },
  {
   "cell_type": "code",
   "execution_count": 76,
   "metadata": {
    "ExecuteTime": {
     "end_time": "2022-06-07T20:30:51.876794Z",
     "start_time": "2022-06-07T20:30:51.629949Z"
    },
    "cell_style": "split"
   },
   "outputs": [
    {
     "data": {
      "image/png": "[encoded data removed]",
      "text/plain": [
       "<Figure size 1200x600 with 1 Axes>"
      ]
     },
     "metadata": {},
     "output_type": "display_data"
    }
   ],
   "source": [
    "y_pred_proba = grid_model.predict_proba(X_test)[:, 1]\n",
    "precisions, recalls, thresholds = precision_recall_curve(y_test, y_pred_proba)\n",
    "plt.plot(recalls, precisions, label='RF')\n",
    "plt.xlabel('recalls')\n",
    "plt.ylabel('precisions')\n",
    "plt.title('Precision-Recall curve')\n",
    "plt.show()"
   ]
  },
  {
   "cell_type": "code",
   "execution_count": 77,
   "metadata": {
    "ExecuteTime": {
     "end_time": "2022-06-07T20:30:51.891756Z",
     "start_time": "2022-06-07T20:30:51.877792Z"
    },
    "cell_style": "split"
   },
   "outputs": [
    {
     "data": {
      "text/plain": [
       "0.6695473293906559"
      ]
     },
     "execution_count": 77,
     "metadata": {},
     "output_type": "execute_result"
    }
   ],
   "source": [
    "average_precision_score(y_test, y_pred_proba)"
   ]
  },
  {
   "cell_type": "code",
   "execution_count": 78,
   "metadata": {
    "ExecuteTime": {
     "end_time": "2022-06-07T20:30:51.968058Z",
     "start_time": "2022-06-07T20:30:51.893750Z"
    },
    "cell_style": "split",
    "scrolled": true
   },
   "outputs": [
    {
     "name": "stdout",
     "output_type": "stream",
     "text": [
      "[[643 153]\n",
      " [ 51 153]]\n",
      "              precision    recall  f1-score   support\n",
      "\n",
      "           0       0.93      0.81      0.86       796\n",
      "           1       0.50      0.75      0.60       204\n",
      "\n",
      "    accuracy                           0.80      1000\n",
      "   macro avg       0.71      0.78      0.73      1000\n",
      "weighted avg       0.84      0.80      0.81      1000\n",
      "\n"
     ]
    }
   ],
   "source": [
    "y_pred = grid_model.predict(X_test)\n",
    "\n",
    "print(confusion_matrix(y_test, y_pred))\n",
    "print(classification_report(y_test, y_pred))"
   ]
  },
  {
   "cell_type": "markdown",
   "metadata": {},
   "source": [
    "---\n",
    "---"
   ]
  }
 ],
 "metadata": {
  "colab": {
   "authorship_tag": "ABX9TyPKBWWuNpSuP7DHsa+Zpo3l",
   "collapsed_sections": [],
   "name": "Untitled0.ipynb",
   "provenance": []
  },
  "hide_input": false,
  "interpreter": {
   "hash": "433610cb0f903f37fc7985f261392eb8a019342482f1a364cac9b08b86c464f5"
  },
  "kernelspec": {
   "display_name": "Python 3 (ipykernel)",
   "language": "python",
   "name": "python3"
  },
  "language_info": {
   "codemirror_mode": {
    "name": "ipython",
    "version": 3
   },
   "file_extension": ".py",
   "mimetype": "text/x-python",
   "name": "python",
   "nbconvert_exporter": "python",
   "pygments_lexer": "ipython3",
   "version": "3.8.13"
  },
  "toc": {
   "base_numbering": 1,
   "nav_menu": {},
   "number_sections": true,
   "sideBar": true,
   "skip_h1_title": false,
   "title_cell": "Table of Contents",
   "title_sidebar": "Contents",
   "toc_cell": false,
   "toc_position": {
    "height": "calc(100% - 180px)",
    "left": "10px",
    "top": "150px",
    "width": "257.642px"
   },
   "toc_section_display": true,
   "toc_window_display": false
  },
  "varInspector": {
   "cols": {
    "lenName": 16,
    "lenType": 16,
    "lenVar": 40
   },
   "kernels_config": {
    "python": {
     "delete_cmd_postfix": "",
     "delete_cmd_prefix": "del ",
     "library": "var_list.py",
     "varRefreshCmd": "print(var_dic_list())"
    },
    "r": {
     "delete_cmd_postfix": ") ",
     "delete_cmd_prefix": "rm(",
     "library": "var_list.r",
     "varRefreshCmd": "cat(var_dic_list()) "
    }
   },
   "types_to_exclude": [
    "module",
    "function",
    "builtin_function_or_method",
    "instance",
    "_Feature"
   ],
   "window_display": false
  }
 },
 "nbformat": 4,
 "nbformat_minor": 4
}
